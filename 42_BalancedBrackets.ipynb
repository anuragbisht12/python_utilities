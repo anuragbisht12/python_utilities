{
  "nbformat": 4,
  "nbformat_minor": 0,
  "metadata": {
    "colab": {
      "name": "BalancedBrackets.ipynb",
      "provenance": [],
      "collapsed_sections": []
    },
    "kernelspec": {
      "name": "python3",
      "display_name": "Python 3"
    }
  },
  "cells": [
    {
      "cell_type": "code",
      "metadata": {
        "id": "TlsDsHsfHjZy",
        "colab_type": "code",
        "colab": {}
      },
      "source": [
        "#O(n) time | O(n) space\n",
        "def balancedBrackets(string):\n",
        "    openingBrackets=\"([{\"\n",
        "\tclosingBrackets= \")]}\"\n",
        "\tmatchingBrackets={\")\":\"(\",\"]\":\"[\",\"}\":\"{\"}\n",
        "    stack=[]\n",
        "\tfor char in string:\n",
        "\t\tif char in openingBrackets:\n",
        "\t\t\tstack.append(char)\n",
        "\t\telif char in closingBrackets:\n",
        "\t\t\tif len(stack)==0:\n",
        "\t\t\t\treturn False\n",
        "\t\t\tif stack[-1]==matchingBrackets[char]:\n",
        "\t\t\t\tstack.pop()\n",
        "\t\t\telse:\n",
        "\t\t\t\treturn False\n",
        "\treturn len(stack)==0\n"
      ],
      "execution_count": 0,
      "outputs": []
    }
  ]
}